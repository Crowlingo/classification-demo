{
 "nbformat": 4,
 "nbformat_minor": 0,
 "metadata": {
  "colab": {
   "name": "ask_ubuntu.ipynb",
   "provenance": [],
   "authorship_tag": "ABX9TyMgd/6cwDejp9wmuq8X1JB9",
   "include_colab_link": true
  },
  "kernelspec": {
   "name": "pycharm-723ff96d",
   "language": "python",
   "display_name": "PyCharm (FeaturesRegex)"
  }
 },
 "cells": [
  {
   "cell_type": "markdown",
   "metadata": {
    "id": "view-in-github",
    "colab_type": "text"
   },
   "source": [
    "<a href=\"https://colab.research.google.com/github/Crowlingo/intent-classification-demo/blob/main/ask_ubuntu.ipynb\" target=\"_parent\"><img src=\"https://colab.research.google.com/assets/colab-badge.svg\" alt=\"Open In Colab\"/></a>"
   ]
  },
  {
   "cell_type": "code",
   "execution_count": 154,
   "outputs": [],
   "source": [
    "from PyCrowlingo import Client"
   ],
   "metadata": {
    "collapsed": false,
    "pycharm": {
     "name": "#%%\n"
    }
   }
  },
  {
   "cell_type": "code",
   "metadata": {
    "id": "M05UGapw3VTK"
   },
   "source": [
    "client = Client(\"[TOKEN]\")"
   ],
   "execution_count": 155,
   "outputs": []
  },
  {
   "cell_type": "code",
   "execution_count": 156,
   "outputs": [
    {
     "data": {
      "text/plain": "Create(model_id='PX357Frn:')"
     },
     "execution_count": 156,
     "metadata": {},
     "output_type": "execute_result"
    }
   ],
   "source": [
    "model_id = \"AskUbuntu\"\n",
    "client.model.create(model_id, category=\"classifier\")"
   ],
   "metadata": {
    "collapsed": false,
    "pycharm": {
     "name": "#%%\n"
    }
   }
  },
  {
   "cell_type": "code",
   "execution_count": 157,
   "outputs": [],
   "source": [
    "client.classifier.upload_csv(model_id, \"AskUbuntu.csv\", fieldnames=[\"text\", \"class_id\"], delimiter=\"\\t\")"
   ],
   "metadata": {
    "collapsed": false,
    "pycharm": {
     "name": "#%%\n"
    }
   }
  },
  {
   "cell_type": "code",
   "execution_count": 158,
   "outputs": [
    {
     "name": "stderr",
     "output_type": "stream",
     "text": [
      "100%|██████████| 100/100 [00:19<00:00,  5.21it/s]\n"
     ]
    },
    {
     "name": "stdout",
     "output_type": "stream",
     "text": [
      "Trained AskUbuntu in 0:00:16.730000\n"
     ]
    },
    {
     "data": {
      "text/plain": "{'micro': {'precision': 0.9333333333333333,\n  'recall': 0.9333333333333333,\n  'f1': 0.9333333333333333},\n 'macro': {'precision': 0.7692307692307693,\n  'recall': 0.76,\n  'f1': 0.7611111111111111},\n 'weighted': {'precision': 0.9102564102564102,\n  'recall': 0.9333333333333333,\n  'f1': 0.9175925925925925}}"
     },
     "execution_count": 158,
     "metadata": {},
     "output_type": "execute_result"
    }
   ],
   "source": [
    "client.model.train(model_id)\n",
    "client.model.wait_training(model_id)"
   ],
   "metadata": {
    "collapsed": false,
    "pycharm": {
     "name": "#%%\n"
    }
   }
  },
  {
   "cell_type": "code",
   "execution_count": 159,
   "outputs": [
    {
     "data": {
      "text/plain": "Classify(classes=[ClassDetection(class_id='Software Recommendation', confidence=0.8077882452455095, additional_features={}), ClassDetection(class_id='Out Of Scope', confidence=0.13270905409294564, additional_features={}), ClassDetection(class_id='Make Update', confidence=0.02508439514691753, additional_features={}), ClassDetection(class_id='Setup Printer', confidence=0.018302255914582476, additional_features={}), ClassDetection(class_id='Shutdown Computer', confidence=0.016116049600044747, additional_features={})])"
     },
     "execution_count": 159,
     "metadata": {},
     "output_type": "execute_result"
    }
   ],
   "source": [
    "client.classifier.classify(model_id, \"Est-il recommandé d'utiliser MongoDb pour indexer mes documents ?\")\n"
   ],
   "metadata": {
    "collapsed": false,
    "pycharm": {
     "name": "#%%\n"
    }
   }
  },
  {
   "cell_type": "code",
   "execution_count": 160,
   "outputs": [
    {
     "name": "stderr",
     "output_type": "stream",
     "text": [
      "100%|██████████| 100/100 [00:19<00:00,  5.20it/s]\n"
     ]
    },
    {
     "name": "stdout",
     "output_type": "stream",
     "text": [
      "Trained AskUbuntu in 0:00:16.095000\n"
     ]
    },
    {
     "data": {
      "text/plain": "{'message': 'There is no test data to compute metrics'}"
     },
     "execution_count": 160,
     "metadata": {},
     "output_type": "execute_result"
    }
   ],
   "source": [
    "client.model.train(model_id, train_ratio=1.0)\n",
    "client.model.wait_training(model_id)"
   ],
   "metadata": {
    "collapsed": false,
    "pycharm": {
     "name": "#%%\n"
    }
   }
  },
  {
   "cell_type": "code",
   "execution_count": 161,
   "outputs": [
    {
     "data": {
      "text/plain": "Classify(classes=[ClassDetection(class_id='Software Recommendation', confidence=0.8718964856590471, additional_features={}), ClassDetection(class_id='Out Of Scope', confidence=0.08583185558583181, additional_features={}), ClassDetection(class_id='Make Update', confidence=0.020390925171580674, additional_features={}), ClassDetection(class_id='Shutdown Computer', confidence=0.011442753942781249, additional_features={}), ClassDetection(class_id='Setup Printer', confidence=0.010437979640759017, additional_features={})])"
     },
     "execution_count": 161,
     "metadata": {},
     "output_type": "execute_result"
    }
   ],
   "source": [
    "client.classifier.classify(model_id, \"Est-il recommandé d'utiliser MongoDb pour indexer mes documents ?\")\n"
   ],
   "metadata": {
    "collapsed": false,
    "pycharm": {
     "name": "#%%\n"
    }
   }
  },
  {
   "cell_type": "code",
   "execution_count": 162,
   "outputs": [
    {
     "name": "stderr",
     "output_type": "stream",
     "text": [
      "100%|██████████| 100/100 [00:03<00:00, 30.97it/s]\n"
     ]
    },
    {
     "name": "stdout",
     "output_type": "stream",
     "text": [
      "Deployed AskUbuntu in 0:00:00.242000\n"
     ]
    },
    {
     "data": {
      "text/plain": "Get(public=False, markers=[], description=None, name='AskUbuntu', versions={'test': Version(metrics={'message': 'There is no test data to compute metrics'}, version_id=2), 'prod': Version(metrics={'message': 'There is no test data to compute metrics'}, version_id=2)}, category='classifier', training_status='done', training_progress=100, training_error='None', training_start='2020-11-22 00:28:39.091000', training_end='2020-11-22 00:28:55.186000', deploying_start='2020-11-22 00:28:59.957000', deploying_end='2020-11-22 00:29:00.199000', owner='jonas.bouaziz@epita.fr', collaborators={}, metadata={'classes': {'Software Recommendation': 57, 'Shutdown Computer': 27, 'Out Of Scope': 8, 'Setup Printer': 23, 'Make Update': 47}, 'markers': {}, 'documents': 162})"
     },
     "execution_count": 162,
     "metadata": {},
     "output_type": "execute_result"
    }
   ],
   "source": [
    "client.model.deploy(model_id)\n",
    "client.model.wait_deploying(model_id)"
   ],
   "metadata": {
    "collapsed": false,
    "pycharm": {
     "name": "#%%\n"
    }
   }
  },
  {
   "cell_type": "code",
   "execution_count": 163,
   "outputs": [
    {
     "data": {
      "text/plain": "Classify(classes=[ClassDetection(class_id='Software Recommendation', confidence=0.8718964856590471, additional_features={}), ClassDetection(class_id='Out Of Scope', confidence=0.08583185558583181, additional_features={}), ClassDetection(class_id='Make Update', confidence=0.020390925171580674, additional_features={}), ClassDetection(class_id='Shutdown Computer', confidence=0.011442753942781249, additional_features={}), ClassDetection(class_id='Setup Printer', confidence=0.010437979640759017, additional_features={})])"
     },
     "execution_count": 163,
     "metadata": {},
     "output_type": "execute_result"
    }
   ],
   "source": [
    "client.classifier.classify(model_id, \"Est-il recommandé d'utiliser MongoDb pour indexer mes documents ?\",\n",
    "                           prod_version=True)\n",
    "\n",
    "\n",
    "\n"
   ],
   "metadata": {
    "collapsed": false,
    "pycharm": {
     "name": "#%%\n"
    }
   }
  }
 ]
}